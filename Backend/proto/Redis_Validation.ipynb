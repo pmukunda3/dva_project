{
 "cells": [
  {
   "cell_type": "code",
   "execution_count": 54,
   "metadata": {},
   "outputs": [
    {
     "name": "stdout",
     "output_type": "stream",
     "text": [
      "counts_month:1969:6\n",
      "------------------------------\n",
      "United States -- 1076\n",
      "New York City -- 213\n",
      "Politics And Government -- 141\n",
      "Education And Schools -- 112\n",
      "Colleges And Universities -- 108\n",
      "United States Armament And Defense -- 106\n",
      "Book Reviews -- 105\n",
      "Crime And Criminals -- 105\n",
      "General Policies Of Billigerents Other Major Powers -- 101\n",
      "Military Action -- 88\n",
      "******************************\n",
      "counts_month:1969:7\n",
      "------------------------------\n",
      "United States -- 952\n",
      "United States Projects -- 387\n",
      "Apollo 11 -- 337\n",
      "Politics And Government -- 194\n",
      "New York City -- 148\n",
      "Military Action -- 105\n",
      "General Policies Of Belligerents Other Major Powers -- 100\n",
      "Education And Schools -- 95\n",
      "Nixon Richard Milhous -- 91\n",
      "Stocks And Bonds -- 73\n",
      "******************************\n",
      "{u'snippet': u\"'Book Marshal Zhukov's Greatest Battles, tr by Shabad, revd...'\", u'web_url': u'https://query.nytimes.com/gst/abstract.html?res=9E06E7DE143EE23BA1575BC0A9609C946891D6CF', u'image_url': u'', u'date': u'1969-06-08T00:00:00Z', u'headlines': u\"'Marshal Zhukov's Greatest Battles; By Georgi K. Zhukov. Edited with an Introduction And Explanatory Comments By Harrison E. Salisbury. Translated from the Russian by Theodore Shabad. Maps. 304 pp. New York: Harper & Row. $6.95. Greatest Battles'\", u'id': u'4fc46b9c45c1498b0d9b9623'}\n"
     ]
    }
   ],
   "source": [
    "import redis\n",
    "import pprint\n",
    "import json\n",
    "\n",
    "r = redis.StrictRedis(\n",
    "    host='136.59.239.39',\n",
    "    port=8099,\n",
    "    password='DVA_NEWS_PASSWORD@@1',\n",
    "    db=5,\n",
    "    decode_responses=True)\n",
    "\n",
    "\n",
    "keys = [\"counts_month:1969:6\",\"counts_month:1969:4\",\"counts_month:1969:7\"]\n",
    "data = r.mget(keys)\n",
    "final_result = zip(keys,data)\n",
    "for item in final_result:\n",
    "    if item[1] is not None:\n",
    "        key = item[0] \n",
    "        result = json.loads(item[1])\n",
    "        print(key)\n",
    "        print(\"-\"*30)\n",
    "        for key_value in result:\n",
    "            print key_value[\"keyword\"] + \" -- \" + str(key_value[\"count\"])\n",
    "        print(\"*\"*30)\n",
    "        \n",
    "\n",
    "        \n",
    "key = \"get_ids:1969:book~reviews\"\n",
    "data = r.get(key)\n",
    "print(json.loads(data)[0])"
   ]
  },
  {
   "cell_type": "code",
   "execution_count": null,
   "metadata": {},
   "outputs": [],
   "source": []
  }
 ],
 "metadata": {
  "kernelspec": {
   "display_name": "Python [conda env:Analytics]",
   "language": "python",
   "name": "conda-env-Analytics-py"
  },
  "language_info": {
   "codemirror_mode": {
    "name": "ipython",
    "version": 2
   },
   "file_extension": ".py",
   "mimetype": "text/x-python",
   "name": "python",
   "nbconvert_exporter": "python",
   "pygments_lexer": "ipython2",
   "version": "2.7.15"
  }
 },
 "nbformat": 4,
 "nbformat_minor": 2
}
